{
  "nbformat": 4,
  "nbformat_minor": 0,
  "metadata": {
    "colab": {
      "provenance": [],
      "mount_file_id": "1WputSwuR0Q8FwJ5DviKXzaCm5H8AKVVD",
      "authorship_tag": "ABX9TyOCwZuJOlO640SO925q76eZ",
      "include_colab_link": true
    },
    "kernelspec": {
      "name": "python3",
      "display_name": "Python 3"
    },
    "language_info": {
      "name": "python"
    },
    "accelerator": "GPU",
    "gpuClass": "standard"
  },
  "cells": [
    {
      "cell_type": "markdown",
      "metadata": {
        "id": "view-in-github",
        "colab_type": "text"
      },
      "source": [
        "<a href=\"https://colab.research.google.com/github/VS-Lucas/Supervised-learning/blob/main/knn.ipynb\" target=\"_parent\"><img src=\"https://colab.research.google.com/assets/colab-badge.svg\" alt=\"Open In Colab\"/></a>"
      ]
    },
    {
      "cell_type": "code",
      "source": [
        "from google.colab import drive\n",
        "drive.mount('/content/drive')"
      ],
      "metadata": {
        "colab": {
          "base_uri": "https://localhost:8080/"
        },
        "id": "xFqjl3NN7t0z",
        "outputId": "cedd78f2-e209-4990-c439-c494084e6253"
      },
      "execution_count": 1,
      "outputs": [
        {
          "output_type": "stream",
          "name": "stdout",
          "text": [
            "Drive already mounted at /content/drive; to attempt to forcibly remount, call drive.mount(\"/content/drive\", force_remount=True).\n"
          ]
        }
      ]
    },
    {
      "cell_type": "code",
      "execution_count": 119,
      "metadata": {
        "id": "b9j9EBK2VS2d"
      },
      "outputs": [],
      "source": [
        "import pandas as pd\n",
        "import numpy as np \n",
        "import matplotlib.pyplot as plt\n",
        "import seaborn as sns\n",
        "import sklearn\n",
        "from sklearn.preprocessing import LabelEncoder, MinMaxScaler\n",
        "from sklearn.model_selection import train_test_split, cross_val_score\n",
        "from sklearn.neighbors import KNeighborsClassifier\n",
        "from sklearn.metrics import accuracy_score\n",
        "from sklearn.metrics import confusion_matrix"
      ]
    },
    {
      "cell_type": "markdown",
      "source": [
        "Leitura do csv"
      ],
      "metadata": {
        "id": "VOLB30yud87A"
      }
    },
    {
      "cell_type": "code",
      "source": [
        "df = pd.read_csv(\"drive/MyDrive/csvs/diabetes_prediction_dataset.csv\")\n",
        "columns = df.columns"
      ],
      "metadata": {
        "id": "-biQbYP-Vhqn"
      },
      "execution_count": 62,
      "outputs": []
    },
    {
      "cell_type": "markdown",
      "source": [
        "Transformando valores categóricos em numéricos"
      ],
      "metadata": {
        "id": "VnvJxkDndpoA"
      }
    },
    {
      "cell_type": "code",
      "source": [
        "target = ['gender', 'smoking_history']\n",
        "for i in target:\n",
        "    encoder = LabelEncoder()\n",
        "    encoder.fit(list(df[i]))\n",
        "    df[i] = encoder.fit_transform(df[i])"
      ],
      "metadata": {
        "id": "a-LjWVnxYssQ"
      },
      "execution_count": 73,
      "outputs": []
    },
    {
      "cell_type": "markdown",
      "source": [
        "Normalizando o dataframe"
      ],
      "metadata": {
        "id": "5j-rcA1YeM5j"
      }
    },
    {
      "cell_type": "code",
      "source": [
        "scaler = MinMaxScaler()\n",
        "norm = scaler.fit_transform(df)\n",
        "dataset = pd.DataFrame(norm, columns=columns)"
      ],
      "metadata": {
        "id": "urrkB9zqFo0a"
      },
      "execution_count": 65,
      "outputs": []
    },
    {
      "cell_type": "code",
      "source": [
        "x = dataset[['gender', 'age', 'hypertension', 'heart_disease', 'smoking_history',\n",
        "       'bmi', 'HbA1c_level', 'blood_glucose_level']]\n",
        "y = dataset['diabetes']"
      ],
      "metadata": {
        "id": "dPehX9nKZ0kb"
      },
      "execution_count": 74,
      "outputs": []
    },
    {
      "cell_type": "markdown",
      "source": [
        "Dividindo os dados em conjuntos de treinamento e teste"
      ],
      "metadata": {
        "id": "xa2ISYadevC0"
      }
    },
    {
      "cell_type": "code",
      "source": [
        "xTrain, xTest, yTrain, yTest = train_test_split(x, y, test_size=1/3, random_state=42)"
      ],
      "metadata": {
        "id": "Sigix8YVZ2NW"
      },
      "execution_count": 120,
      "outputs": []
    },
    {
      "cell_type": "markdown",
      "source": [
        "Escolhendo números ímpares para evitar empates"
      ],
      "metadata": {
        "id": "LrjaLw7gRQh4"
      }
    },
    {
      "cell_type": "code",
      "source": [
        "kValues = [i for i in range(1, 50, 2)]"
      ],
      "metadata": {
        "id": "i-21ARo5QZ04"
      },
      "execution_count": 116,
      "outputs": []
    },
    {
      "cell_type": "markdown",
      "source": [
        "Validação cruzada visando evitar overfitting"
      ],
      "metadata": {
        "id": "Kok082k_UkFM"
      }
    },
    {
      "cell_type": "code",
      "source": [
        "kAccScores = []\n",
        "for k in kValues:\n",
        "  KNN = KNeighborsClassifier(n_neighbors=k, n_jobs=-1)\n",
        "  cvScores = cross_val_score(KNN, xTrain, yTrain, cv=5, scoring='accuracy')\n",
        "  kAccScores.append(cvScores.mean())"
      ],
      "metadata": {
        "id": "INpL3X53Rb32"
      },
      "execution_count": 121,
      "outputs": []
    },
    {
      "cell_type": "code",
      "source": [
        "optimalK = kValues[kAccScores.index(max(kAccScores))]"
      ],
      "metadata": {
        "id": "mLbmdzEXV20D"
      },
      "execution_count": 122,
      "outputs": []
    },
    {
      "cell_type": "code",
      "source": [
        "print(f'O k ótimo é: {optimalK}')"
      ],
      "metadata": {
        "colab": {
          "base_uri": "https://localhost:8080/"
        },
        "id": "fM0RC9goWvBa",
        "outputId": "fae56785-d0e6-4c73-d323-afc1f32c5bb5"
      },
      "execution_count": 126,
      "outputs": [
        {
          "output_type": "stream",
          "name": "stdout",
          "text": [
            "O k ótimo é: 11\n"
          ]
        }
      ]
    },
    {
      "cell_type": "markdown",
      "source": [
        "Checando as acurácias\n",
        "\n"
      ],
      "metadata": {
        "id": "eduMslMPYy20"
      }
    },
    {
      "cell_type": "code",
      "source": [
        "plt.plot(kValues, kAccScores)\n",
        "plt.xlabel('K')\n",
        "plt.ylabel('Acc')\n",
        "\n",
        "max_y = np.max(kAccScores)\n",
        "max_x = kValues[np.argmax(kAccScores)]\n",
        "\n",
        "plt.annotate(f'Max Acc: ({max_x}, {max_y:.2f})', xy=(kValues[kAccScores.index(max_y)], max_y), xytext=(10, -20), textcoords='offset points', ha='left', va='top', arrowprops=dict(arrowstyle='->', connectionstyle='arc3'))\n",
        "\n",
        "plt.show()"
      ],
      "metadata": {
        "colab": {
          "base_uri": "https://localhost:8080/",
          "height": 449
        },
        "id": "TnwF-ZL_Y17C",
        "outputId": "8a7445c8-9967-4877-f1a4-4def0e111e11"
      },
      "execution_count": 129,
      "outputs": [
        {
          "output_type": "display_data",
          "data": {
            "text/plain": [
              "<Figure size 640x480 with 1 Axes>"
            ],
            "image/png": "[encoded data removed]"
          },
          "metadata": {}
        }
      ]
    },
    {
      "cell_type": "markdown",
      "source": [
        "Matriz de confusão usando o k ótimo"
      ],
      "metadata": {
        "id": "OcA69wTvba1N"
      }
    },
    {
      "cell_type": "code",
      "source": [
        "KNN = KNeighborsClassifier(n_neighbors=11).fit(xTrain, yTrain)\n",
        "yPredKNN = KNN.predict(xTest)"
      ],
      "metadata": {
        "id": "rrFav_aNbyJg"
      },
      "execution_count": 130,
      "outputs": []
    },
    {
      "cell_type": "code",
      "source": [
        "accKNN = accuracy_score(yTest, yPredKNN)\n",
        "accKNN"
      ],
      "metadata": {
        "colab": {
          "base_uri": "https://localhost:8080/"
        },
        "id": "rbhB27DqcAlH",
        "outputId": "7ec12d28-51bb-4041-be23-c5c2d4d19661"
      },
      "execution_count": 131,
      "outputs": [
        {
          "output_type": "execute_result",
          "data": {
            "text/plain": [
              "0.9620807583848323"
            ]
          },
          "metadata": {},
          "execution_count": 131
        }
      ]
    },
    {
      "cell_type": "markdown",
      "source": [
        "Conclue-se que a classe 0 obteve uma boa taxa de acerto, o contrário da classe 1"
      ],
      "metadata": {
        "id": "7lolJ1n5c7qj"
      }
    },
    {
      "cell_type": "code",
      "source": [
        "confusion_matrix(yTest,yPredKNN)"
      ],
      "metadata": {
        "colab": {
          "base_uri": "https://localhost:8080/"
        },
        "id": "-rGknp39baLx",
        "outputId": "c9dfaf3d-1df8-4f38-81e9-19c0e94c27a5"
      },
      "execution_count": 132,
      "outputs": [
        {
          "output_type": "execute_result",
          "data": {
            "text/plain": [
              "array([[30468,    63],\n",
              "       [ 1201,  1602]])"
            ]
          },
          "metadata": {},
          "execution_count": 132
        }
      ]
    }
  ]
}
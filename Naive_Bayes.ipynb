{
  "nbformat": 4,
  "nbformat_minor": 0,
  "metadata": {
    "colab": {
      "provenance": [],
      "mount_file_id": "1WputSwuR0Q8FwJ5DviKXzaCm5H8AKVVD",
      "authorship_tag": "ABX9TyPV0lXqzsUT5AUtV2d+6APo",
      "include_colab_link": true
    },
    "kernelspec": {
      "name": "python3",
      "display_name": "Python 3"
    },
    "language_info": {
      "name": "python"
    },
    "accelerator": "GPU",
    "gpuClass": "standard"
  },
  "cells": [
    {
      "cell_type": "markdown",
      "metadata": {
        "id": "view-in-github",
        "colab_type": "text"
      },
      "source": [
        "<a href=\"https://colab.research.google.com/github/VS-Lucas/Supervised-learning/blob/main/Naive_Bayes.ipynb\" target=\"_parent\"><img src=\"https://colab.research.google.com/assets/colab-badge.svg\" alt=\"Open In Colab\"/></a>"
      ]
    },
    {
      "cell_type": "code",
      "source": [
        "from google.colab import drive\n",
        "drive.mount('/content/drive')"
      ],
      "metadata": {
        "colab": {
          "base_uri": "https://localhost:8080/"
        },
        "id": "xFqjl3NN7t0z",
        "outputId": "3c3a259d-23d7-44a7-f289-d4764bedbe3c"
      },
      "execution_count": 2,
      "outputs": [
        {
          "output_type": "stream",
          "name": "stdout",
          "text": [
            "Mounted at /content/drive\n"
          ]
        }
      ]
    },
    {
      "cell_type": "code",
      "execution_count": 16,
      "metadata": {
        "id": "b9j9EBK2VS2d"
      },
      "outputs": [],
      "source": [
        "import pandas as pd\n",
        "import numpy as np \n",
        "import matplotlib.pyplot as plt\n",
        "from sklearn.preprocessing import LabelEncoder, MinMaxScaler\n",
        "from sklearn.model_selection import train_test_split\n",
        "from sklearn.naive_bayes import GaussianNB, BernoulliNB\n",
        "from sklearn.model_selection import StratifiedKFold, cross_val_score\n",
        "from sklearn.metrics import accuracy_score, precision_score, recall_score, f1_score\n",
        "from sklearn.metrics import confusion_matrix"
      ]
    },
    {
      "cell_type": "markdown",
      "source": [
        "Leitura do csv"
      ],
      "metadata": {
        "id": "VOLB30yud87A"
      }
    },
    {
      "cell_type": "code",
      "source": [
        "df = pd.read_csv(\"drive/MyDrive/csvs/diabetes_prediction_dataset.csv\")\n",
        "columns = df.columns\n",
        "df.head()"
      ],
      "metadata": {
        "id": "-biQbYP-Vhqn",
        "colab": {
          "base_uri": "https://localhost:8080/",
          "height": 270
        },
        "outputId": "5cd84fca-d66c-4ea9-8316-ab22680387b7"
      },
      "execution_count": 3,
      "outputs": [
        {
          "output_type": "execute_result",
          "data": {
            "text/plain": [
              "   gender   age  hypertension  heart_disease smoking_history    bmi  \\\n",
              "0  Female  80.0             0              1           never  25.19   \n",
              "1  Female  54.0             0              0         No Info  27.32   \n",
              "2    Male  28.0             0              0           never  27.32   \n",
              "3  Female  36.0             0              0         current  23.45   \n",
              "4    Male  76.0             1              1         current  20.14   \n",
              "\n",
              "   HbA1c_level  blood_glucose_level  diabetes  \n",
              "0          6.6                  140         0  \n",
              "1          6.6                   80         0  \n",
              "2          5.7                  158         0  \n",
              "3          5.0                  155         0  \n",
              "4          4.8                  155         0  "
            ],
            "text/html": [
              "\n",
              "  <div id=\"df-039c4533-6e15-40e1-860e-5017bb28c4cc\">\n",
              "    <div class=\"colab-df-container\">\n",
              "      <div>\n",
              "<style scoped>\n",
              "    .dataframe tbody tr th:only-of-type {\n",
              "        vertical-align: middle;\n",
              "    }\n",
              "\n",
              "    .dataframe tbody tr th {\n",
              "        vertical-align: top;\n",
              "    }\n",
              "\n",
              "    .dataframe thead th {\n",
              "        text-align: right;\n",
              "    }\n",
              "</style>\n",
              "<table border=\"1\" class=\"dataframe\">\n",
              "  <thead>\n",
              "    <tr style=\"text-align: right;\">\n",
              "      <th></th>\n",
              "      <th>gender</th>\n",
              "      <th>age</th>\n",
              "      <th>hypertension</th>\n",
              "      <th>heart_disease</th>\n",
              "      <th>smoking_history</th>\n",
              "      <th>bmi</th>\n",
              "      <th>HbA1c_level</th>\n",
              "      <th>blood_glucose_level</th>\n",
              "      <th>diabetes</th>\n",
              "    </tr>\n",
              "  </thead>\n",
              "  <tbody>\n",
              "    <tr>\n",
              "      <th>0</th>\n",
              "      <td>Female</td>\n",
              "      <td>80.0</td>\n",
              "      <td>0</td>\n",
              "      <td>1</td>\n",
              "      <td>never</td>\n",
              "      <td>25.19</td>\n",
              "      <td>6.6</td>\n",
              "      <td>140</td>\n",
              "      <td>0</td>\n",
              "    </tr>\n",
              "    <tr>\n",
              "      <th>1</th>\n",
              "      <td>Female</td>\n",
              "      <td>54.0</td>\n",
              "      <td>0</td>\n",
              "      <td>0</td>\n",
              "      <td>No Info</td>\n",
              "      <td>27.32</td>\n",
              "      <td>6.6</td>\n",
              "      <td>80</td>\n",
              "      <td>0</td>\n",
              "    </tr>\n",
              "    <tr>\n",
              "      <th>2</th>\n",
              "      <td>Male</td>\n",
              "      <td>28.0</td>\n",
              "      <td>0</td>\n",
              "      <td>0</td>\n",
              "      <td>never</td>\n",
              "      <td>27.32</td>\n",
              "      <td>5.7</td>\n",
              "      <td>158</td>\n",
              "      <td>0</td>\n",
              "    </tr>\n",
              "    <tr>\n",
              "      <th>3</th>\n",
              "      <td>Female</td>\n",
              "      <td>36.0</td>\n",
              "      <td>0</td>\n",
              "      <td>0</td>\n",
              "      <td>current</td>\n",
              "      <td>23.45</td>\n",
              "      <td>5.0</td>\n",
              "      <td>155</td>\n",
              "      <td>0</td>\n",
              "    </tr>\n",
              "    <tr>\n",
              "      <th>4</th>\n",
              "      <td>Male</td>\n",
              "      <td>76.0</td>\n",
              "      <td>1</td>\n",
              "      <td>1</td>\n",
              "      <td>current</td>\n",
              "      <td>20.14</td>\n",
              "      <td>4.8</td>\n",
              "      <td>155</td>\n",
              "      <td>0</td>\n",
              "    </tr>\n",
              "  </tbody>\n",
              "</table>\n",
              "</div>\n",
              "      <button class=\"colab-df-convert\" onclick=\"convertToInteractive('df-039c4533-6e15-40e1-860e-5017bb28c4cc')\"\n",
              "              title=\"Convert this dataframe to an interactive table.\"\n",
              "              style=\"display:none;\">\n",
              "        \n",
              "  <svg xmlns=\"http://www.w3.org/2000/svg\" height=\"24px\"viewBox=\"0 0 24 24\"\n",
              "       width=\"24px\">\n",
              "    <path d=\"M0 0h24v24H0V0z\" fill=\"none\"/>\n",
              "    <path d=\"M18.56 5.44l.94 2.06.94-2.06 2.06-.94-2.06-.94-.94-2.06-.94 2.06-2.06.94zm-11 1L8.5 8.5l.94-2.06 2.06-.94-2.06-.94L8.5 2.5l-.94 2.06-2.06.94zm10 10l.94 2.06.94-2.06 2.06-.94-2.06-.94-.94-2.06-.94 2.06-2.06.94z\"/><path d=\"M17.41 7.96l-1.37-1.37c-.4-.4-.92-.59-1.43-.59-.52 0-1.04.2-1.43.59L10.3 9.45l-7.72 7.72c-.78.78-.78 2.05 0 2.83L4 21.41c.39.39.9.59 1.41.59.51 0 1.02-.2 1.41-.59l7.78-7.78 2.81-2.81c.8-.78.8-2.07 0-2.86zM5.41 20L4 18.59l7.72-7.72 1.47 1.35L5.41 20z\"/>\n",
              "  </svg>\n",
              "      </button>\n",
              "      \n",
              "  <style>\n",
              "    .colab-df-container {\n",
              "      display:flex;\n",
              "      flex-wrap:wrap;\n",
              "      gap: 12px;\n",
              "    }\n",
              "\n",
              "    .colab-df-convert {\n",
              "      background-color: #E8F0FE;\n",
              "      border: none;\n",
              "      border-radius: 50%;\n",
              "      cursor: pointer;\n",
              "      display: none;\n",
              "      fill: #1967D2;\n",
              "      height: 32px;\n",
              "      padding: 0 0 0 0;\n",
              "      width: 32px;\n",
              "    }\n",
              "\n",
              "    .colab-df-convert:hover {\n",
              "      background-color: #E2EBFA;\n",
              "      box-shadow: 0px 1px 2px rgba(60, 64, 67, 0.3), 0px 1px 3px 1px rgba(60, 64, 67, 0.15);\n",
              "      fill: #174EA6;\n",
              "    }\n",
              "\n",
              "    [theme=dark] .colab-df-convert {\n",
              "      background-color: #3B4455;\n",
              "      fill: #D2E3FC;\n",
              "    }\n",
              "\n",
              "    [theme=dark] .colab-df-convert:hover {\n",
              "      background-color: #434B5C;\n",
              "      box-shadow: 0px 1px 3px 1px rgba(0, 0, 0, 0.15);\n",
              "      filter: drop-shadow(0px 1px 2px rgba(0, 0, 0, 0.3));\n",
              "      fill: #FFFFFF;\n",
              "    }\n",
              "  </style>\n",
              "\n",
              "      <script>\n",
              "        const buttonEl =\n",
              "          document.querySelector('#df-039c4533-6e15-40e1-860e-5017bb28c4cc button.colab-df-convert');\n",
              "        buttonEl.style.display =\n",
              "          google.colab.kernel.accessAllowed ? 'block' : 'none';\n",
              "\n",
              "        async function convertToInteractive(key) {\n",
              "          const element = document.querySelector('#df-039c4533-6e15-40e1-860e-5017bb28c4cc');\n",
              "          const dataTable =\n",
              "            await google.colab.kernel.invokeFunction('convertToInteractive',\n",
              "                                                     [key], {});\n",
              "          if (!dataTable) return;\n",
              "\n",
              "          const docLinkHtml = 'Like what you see? Visit the ' +\n",
              "            '<a target=\"_blank\" href=https://colab.research.google.com/notebooks/data_table.ipynb>data table notebook</a>'\n",
              "            + ' to learn more about interactive tables.';\n",
              "          element.innerHTML = '';\n",
              "          dataTable['output_type'] = 'display_data';\n",
              "          await google.colab.output.renderOutput(dataTable, element);\n",
              "          const docLink = document.createElement('div');\n",
              "          docLink.innerHTML = docLinkHtml;\n",
              "          element.appendChild(docLink);\n",
              "        }\n",
              "      </script>\n",
              "    </div>\n",
              "  </div>\n",
              "  "
            ]
          },
          "metadata": {},
          "execution_count": 3
        }
      ]
    },
    {
      "cell_type": "markdown",
      "source": [
        "Transformando valores categóricos em numéricos"
      ],
      "metadata": {
        "id": "VnvJxkDndpoA"
      }
    },
    {
      "cell_type": "code",
      "source": [
        "target = ['gender', 'smoking_history']\n",
        "for i in target:\n",
        "    encoder = LabelEncoder()\n",
        "    encoder.fit(list(df[i]))\n",
        "    df[i] = encoder.fit_transform(df[i])"
      ],
      "metadata": {
        "id": "a-LjWVnxYssQ"
      },
      "execution_count": 4,
      "outputs": []
    },
    {
      "cell_type": "markdown",
      "source": [
        "Normalizando o dataframe"
      ],
      "metadata": {
        "id": "5j-rcA1YeM5j"
      }
    },
    {
      "cell_type": "code",
      "source": [
        "scaler = MinMaxScaler()\n",
        "norm = scaler.fit_transform(df)\n",
        "dataset = pd.DataFrame(norm, columns=columns)"
      ],
      "metadata": {
        "id": "urrkB9zqFo0a"
      },
      "execution_count": 5,
      "outputs": []
    },
    {
      "cell_type": "markdown",
      "source": [
        "# Gaussian"
      ],
      "metadata": {
        "id": "Yguh7FcDD7T1"
      }
    },
    {
      "cell_type": "code",
      "source": [
        "x = dataset[['gender', 'age', 'smoking_history','bmi', 'HbA1c_level', 'blood_glucose_level']]\n",
        "y = dataset['diabetes']"
      ],
      "metadata": {
        "id": "t91v0wSoVchN"
      },
      "execution_count": 41,
      "outputs": []
    },
    {
      "cell_type": "markdown",
      "source": [
        "Dividindo os dados em conjuntos de treinamento e teste"
      ],
      "metadata": {
        "id": "sEiDFVSFVlqc"
      }
    },
    {
      "cell_type": "code",
      "source": [
        "xTrain, xTest, yTrain, yTest = train_test_split(x, y, test_size=1/3, random_state=42)"
      ],
      "metadata": {
        "id": "ZtxtSkHQVgMq"
      },
      "execution_count": 42,
      "outputs": []
    },
    {
      "cell_type": "code",
      "source": [
        "naiveBayes = GaussianNB()\n",
        "naiveBayes.fit(xTrain, yTrain)\n",
        "\n",
        "yPredNB = naiveBayes.predict(xTest)\n",
        "accNB = accuracy_score(yPredNB, yTest)\n",
        "print(f'Accuracy: {accNB}')"
      ],
      "metadata": {
        "colab": {
          "base_uri": "https://localhost:8080/"
        },
        "id": "Ajr0ZMJ1-Wy6",
        "outputId": "95731af8-a59c-4c74-8bf3-8bdc96337c8d"
      },
      "execution_count": 40,
      "outputs": [
        {
          "output_type": "stream",
          "name": "stdout",
          "text": [
            "Accuracy: 0.9559008819823603\n"
          ]
        }
      ]
    },
    {
      "cell_type": "markdown",
      "source": [
        "Matriz de confusão"
      ],
      "metadata": {
        "id": "RX5nEVoUDi8z"
      }
    },
    {
      "cell_type": "code",
      "source": [
        "confusion_matrix(yTest,yPredNB)"
      ],
      "metadata": {
        "colab": {
          "base_uri": "https://localhost:8080/"
        },
        "id": "jpOQ053M-gVI",
        "outputId": "278e8bf2-48d4-4cb3-d7b4-202da4f7dd81"
      },
      "execution_count": 35,
      "outputs": [
        {
          "output_type": "execute_result",
          "data": {
            "text/plain": [
              "array([[30201,   330],\n",
              "       [ 1140,  1663]])"
            ]
          },
          "metadata": {},
          "execution_count": 35
        }
      ]
    },
    {
      "cell_type": "code",
      "source": [
        "df = pd.DataFrame({'Real Values': yTest, 'Predicted Values': yPredNB})\n",
        "print(df.head(30), '\\n', '-'*35)\n",
        "print(df.tail(30))"
      ],
      "metadata": {
        "colab": {
          "base_uri": "https://localhost:8080/"
        },
        "id": "waMc1Wmx-oDf",
        "outputId": "57102ec5-5c2b-4174-af20-af75c64c73ed"
      },
      "execution_count": 36,
      "outputs": [
        {
          "output_type": "stream",
          "name": "stdout",
          "text": [
            "       Real Values  Predicted Values\n",
            "75721          0.0               0.0\n",
            "80184          0.0               0.0\n",
            "19864          0.0               0.0\n",
            "76699          0.0               0.0\n",
            "92991          1.0               0.0\n",
            "76434          0.0               1.0\n",
            "84004          0.0               0.0\n",
            "80917          0.0               0.0\n",
            "60767          0.0               0.0\n",
            "50074          0.0               0.0\n",
            "27701          0.0               0.0\n",
            "42141          0.0               0.0\n",
            "45080          0.0               0.0\n",
            "16638          0.0               0.0\n",
            "20424          0.0               0.0\n",
            "88702          1.0               0.0\n",
            "149            0.0               0.0\n",
            "1761           0.0               0.0\n",
            "63120          0.0               0.0\n",
            "69161          0.0               0.0\n",
            "64883          0.0               0.0\n",
            "2495           0.0               0.0\n",
            "80296          0.0               0.0\n",
            "19447          0.0               0.0\n",
            "41331          0.0               0.0\n",
            "14888          0.0               0.0\n",
            "88636          0.0               0.0\n",
            "94892          0.0               0.0\n",
            "92731          0.0               0.0\n",
            "29130          0.0               0.0 \n",
            " -----------------------------------\n",
            "       Real Values  Predicted Values\n",
            "32109          0.0               0.0\n",
            "96100          0.0               0.0\n",
            "22823          0.0               0.0\n",
            "57050          0.0               0.0\n",
            "69511          0.0               0.0\n",
            "57817          1.0               1.0\n",
            "59723          1.0               0.0\n",
            "42366          0.0               0.0\n",
            "99729          0.0               0.0\n",
            "69406          0.0               0.0\n",
            "93351          0.0               0.0\n",
            "9178           0.0               0.0\n",
            "24471          0.0               0.0\n",
            "84686          0.0               0.0\n",
            "79883          0.0               0.0\n",
            "70355          0.0               0.0\n",
            "79253          0.0               0.0\n",
            "14936          0.0               0.0\n",
            "10840          0.0               0.0\n",
            "90016          0.0               0.0\n",
            "66884          0.0               0.0\n",
            "26969          1.0               0.0\n",
            "57825          0.0               0.0\n",
            "245            0.0               0.0\n",
            "4389           0.0               0.0\n",
            "1013           0.0               0.0\n",
            "61498          0.0               0.0\n",
            "37942          0.0               0.0\n",
            "88485          0.0               0.0\n",
            "39018          0.0               0.0\n"
          ]
        }
      ]
    },
    {
      "cell_type": "markdown",
      "source": [
        "Validação cruzada (Stratified K-Fold Cross Validation)"
      ],
      "metadata": {
        "id": "d0K9XHfETciZ"
      }
    },
    {
      "cell_type": "code",
      "source": [
        "skf = StratifiedKFold(n_splits=10, shuffle=True, random_state=42)\n",
        "\n",
        "for train_index, test_index in skf.split(x, y):\n",
        "    xTrain, xTest = x.iloc[train_index], x.iloc[test_index]\n",
        "    yTrain, yTest = y.iloc[train_index], y.iloc[test_index]\n",
        "\n",
        "    naiveBayes = GaussianNB()\n",
        "    naiveBayes.fit(xTrain, yTrain)\n",
        "\n",
        "    yPred = naiveBayes.predict(xTest)\n",
        "\n",
        "    accuracy = accuracy_score(yTest, yPred)\n",
        "    precision = precision_score(yTest, yPred)\n",
        "    recall = recall_score(yTest, yPred)\n",
        "    f1 = f1_score(yTest, yPred)\n",
        "\n",
        "    print(f'Accuracy: {accuracy}, Precision: {precision}, Recall: {recall}, F1-score: {f1}')"
      ],
      "metadata": {
        "colab": {
          "base_uri": "https://localhost:8080/"
        },
        "id": "dZokpuM7Rj8Y",
        "outputId": "3aeacd3d-f3c8-4c7d-e413-32c0c2df8c11"
      },
      "execution_count": 37,
      "outputs": [
        {
          "output_type": "stream",
          "name": "stdout",
          "text": [
            "Accuracy: 0.9547, Precision: 0.8270181219110379, Recall: 0.5905882352941176, F1-score: 0.6890871654083734\n",
            "Accuracy: 0.9524, Precision: 0.8045602605863192, Recall: 0.5811764705882353, F1-score: 0.674863387978142\n",
            "Accuracy: 0.9542, Precision: 0.8141025641025641, Recall: 0.5976470588235294, F1-score: 0.689280868385346\n",
            "Accuracy: 0.9607, Precision: 0.8598425196850393, Recall: 0.6423529411764706, F1-score: 0.7353535353535354\n",
            "Accuracy: 0.9586, Precision: 0.8471337579617835, Recall: 0.6258823529411764, F1-score: 0.719891745602165\n",
            "Accuracy: 0.9552, Precision: 0.8295081967213115, Recall: 0.5952941176470589, F1-score: 0.6931506849315069\n",
            "Accuracy: 0.9581, Precision: 0.8585690515806988, Recall: 0.6070588235294118, F1-score: 0.7112336319779462\n",
            "Accuracy: 0.9547, Precision: 0.828099173553719, Recall: 0.5894117647058823, F1-score: 0.688659793814433\n",
            "Accuracy: 0.9562, Precision: 0.8456375838926175, Recall: 0.5929411764705882, F1-score: 0.6970954356846473\n",
            "Accuracy: 0.9557, Precision: 0.8352553542009885, Recall: 0.5964705882352941, F1-score: 0.6959505833905285\n"
          ]
        }
      ]
    },
    {
      "cell_type": "markdown",
      "source": [
        "# Bernoulli\n",
        "### O modelo Bernoulli assume que as variáveis de entrada são binárias"
      ],
      "metadata": {
        "id": "dyGXW_CGERgs"
      }
    },
    {
      "cell_type": "code",
      "source": [
        "x = dataset[['hypertension', 'heart_disease']]\n",
        "y = dataset['diabetes']"
      ],
      "metadata": {
        "id": "UeaRJXXRDLGr"
      },
      "execution_count": 26,
      "outputs": []
    },
    {
      "cell_type": "code",
      "source": [
        "xTrain, xTest, yTrain, yTest = train_test_split(x, y, test_size=1/3, random_state=42)"
      ],
      "metadata": {
        "id": "kiJ40K0DDFVg"
      },
      "execution_count": 27,
      "outputs": []
    },
    {
      "cell_type": "code",
      "source": [
        "naiveBayes = BernoulliNB()\n",
        "naiveBayes.fit(xTrain, yTrain)\n",
        "\n",
        "yPredNB = naiveBayes.predict(xTest)\n",
        "accNB = accuracy_score(yPredNB, yTest)\n",
        "print(f'Accuracy: {accNB}')"
      ],
      "metadata": {
        "colab": {
          "base_uri": "https://localhost:8080/"
        },
        "id": "WafT-18Q8fYF",
        "outputId": "2be32c2c-7228-4470-eca9-8d549fbd5b6a"
      },
      "execution_count": 28,
      "outputs": [
        {
          "output_type": "stream",
          "name": "stdout",
          "text": [
            "Accuracy: 0.9144117117657646\n"
          ]
        }
      ]
    },
    {
      "cell_type": "code",
      "source": [
        "confusion_matrix(yTest,yPredNB)"
      ],
      "metadata": {
        "colab": {
          "base_uri": "https://localhost:8080/"
        },
        "id": "-rGknp39baLx",
        "outputId": "b7b04190-594d-4078-aa66-02c1ef2935a0"
      },
      "execution_count": 29,
      "outputs": [
        {
          "output_type": "execute_result",
          "data": {
            "text/plain": [
              "array([[30363,   168],\n",
              "       [ 2685,   118]])"
            ]
          },
          "metadata": {},
          "execution_count": 29
        }
      ]
    },
    {
      "cell_type": "code",
      "source": [
        "df = pd.DataFrame({'Real Values': yTest, 'Predicted Values': yPredNB})\n",
        "print(df.head(30), '\\n', '-'*35)\n",
        "print(df.tail(30))"
      ],
      "metadata": {
        "colab": {
          "base_uri": "https://localhost:8080/"
        },
        "id": "C0HKayfN-5yt",
        "outputId": "c278e1dc-2ab3-42da-c00f-ea38d5068766"
      },
      "execution_count": 30,
      "outputs": [
        {
          "output_type": "stream",
          "name": "stdout",
          "text": [
            "       Real Values  Predicted Values\n",
            "75721          0.0               0.0\n",
            "80184          0.0               0.0\n",
            "19864          0.0               0.0\n",
            "76699          0.0               0.0\n",
            "92991          1.0               0.0\n",
            "76434          0.0               0.0\n",
            "84004          0.0               0.0\n",
            "80917          0.0               0.0\n",
            "60767          0.0               0.0\n",
            "50074          0.0               0.0\n",
            "27701          0.0               0.0\n",
            "42141          0.0               0.0\n",
            "45080          0.0               0.0\n",
            "16638          0.0               0.0\n",
            "20424          0.0               0.0\n",
            "88702          1.0               0.0\n",
            "149            0.0               0.0\n",
            "1761           0.0               0.0\n",
            "63120          0.0               0.0\n",
            "69161          0.0               0.0\n",
            "64883          0.0               0.0\n",
            "2495           0.0               0.0\n",
            "80296          0.0               0.0\n",
            "19447          0.0               1.0\n",
            "41331          0.0               0.0\n",
            "14888          0.0               0.0\n",
            "88636          0.0               0.0\n",
            "94892          0.0               0.0\n",
            "92731          0.0               0.0\n",
            "29130          0.0               0.0 \n",
            " -----------------------------------\n",
            "       Real Values  Predicted Values\n",
            "32109          0.0               0.0\n",
            "96100          0.0               0.0\n",
            "22823          0.0               0.0\n",
            "57050          0.0               0.0\n",
            "69511          0.0               0.0\n",
            "57817          1.0               0.0\n",
            "59723          1.0               0.0\n",
            "42366          0.0               0.0\n",
            "99729          0.0               0.0\n",
            "69406          0.0               0.0\n",
            "93351          0.0               0.0\n",
            "9178           0.0               0.0\n",
            "24471          0.0               0.0\n",
            "84686          0.0               0.0\n",
            "79883          0.0               0.0\n",
            "70355          0.0               0.0\n",
            "79253          0.0               0.0\n",
            "14936          0.0               0.0\n",
            "10840          0.0               0.0\n",
            "90016          0.0               0.0\n",
            "66884          0.0               0.0\n",
            "26969          1.0               0.0\n",
            "57825          0.0               0.0\n",
            "245            0.0               0.0\n",
            "4389           0.0               0.0\n",
            "1013           0.0               0.0\n",
            "61498          0.0               0.0\n",
            "37942          0.0               0.0\n",
            "88485          0.0               0.0\n",
            "39018          0.0               0.0\n"
          ]
        }
      ]
    },
    {
      "cell_type": "markdown",
      "source": [
        "Validação cruzada (Stratified K-Fold Cross Validation)"
      ],
      "metadata": {
        "id": "higfyB8AGdHf"
      }
    },
    {
      "cell_type": "code",
      "source": [
        "skf = StratifiedKFold(n_splits=10, shuffle=True, random_state=42)\n",
        "\n",
        "for train_index, test_index in skf.split(x, y):\n",
        "    xTrain, xTest = x.iloc[train_index], x.iloc[test_index]\n",
        "    yTrain, yTest = y.iloc[train_index], y.iloc[test_index]\n",
        "\n",
        "    naiveBayes = BernoulliNB()\n",
        "    naiveBayes.fit(xTrain, yTrain)\n",
        "\n",
        "    yPred = naiveBayes.predict(xTest)\n",
        "\n",
        "    accuracy = accuracy_score(yTest, yPred)\n",
        "    precision = precision_score(yTest, yPred)\n",
        "    recall = recall_score(yTest, yPred)\n",
        "    f1 = f1_score(yTest, yPred)\n",
        "\n",
        "    print(f'Accuracy: {accuracy}, Precision: {precision}, Recall: {recall}, F1-score: {f1}')\n"
      ],
      "metadata": {
        "colab": {
          "base_uri": "https://localhost:8080/"
        },
        "id": "mO2IoNVPQeDt",
        "outputId": "e324ca3e-013e-40b7-9d31-e7725451a65a"
      },
      "execution_count": 31,
      "outputs": [
        {
          "output_type": "stream",
          "name": "stdout",
          "text": [
            "Accuracy: 0.9127, Precision: 0.37362637362637363, Recall: 0.04, F1-score: 0.07226354941551541\n",
            "Accuracy: 0.9151, Precision: 0.5048543689320388, Recall: 0.0611764705882353, F1-score: 0.10912906610703044\n",
            "Accuracy: 0.9141, Precision: 0.4470588235294118, Recall: 0.04470588235294118, F1-score: 0.08128342245989305\n",
            "Accuracy: 0.9123, Precision: 0.29850746268656714, Recall: 0.023529411764705882, F1-score: 0.043620501635768805\n",
            "Accuracy: 0.9117, Precision: 0.3333333333333333, Recall: 0.03882352941176471, F1-score: 0.0695468914646997\n",
            "Accuracy: 0.9116, Precision: 0.32653061224489793, Recall: 0.03764705882352941, F1-score: 0.06751054852320675\n",
            "Accuracy: 0.9134, Precision: 0.4148936170212766, Recall: 0.04588235294117647, F1-score: 0.0826271186440678\n",
            "Accuracy: 0.9113, Precision: 0.28735632183908044, Recall: 0.029411764705882353, F1-score: 0.05336179295624333\n",
            "Accuracy: 0.914, Precision: 0.45098039215686275, Recall: 0.05411764705882353, F1-score: 0.09663865546218486\n",
            "Accuracy: 0.9138, Precision: 0.43333333333333335, Recall: 0.04588235294117647, F1-score: 0.08297872340425533\n"
          ]
        }
      ]
    }
  ]
}